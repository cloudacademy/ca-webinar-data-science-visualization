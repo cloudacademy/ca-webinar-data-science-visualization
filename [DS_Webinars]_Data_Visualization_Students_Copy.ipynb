{
  "nbformat": 4,
  "nbformat_minor": 0,
  "metadata": {
    "colab": {
      "name": "[DS Webinars] Data Visualization - Students Copy.ipynb",
      "provenance": [],
      "collapsed_sections": []
    },
    "kernelspec": {
      "name": "python3",
      "display_name": "Python 3"
    },
    "language_info": {
      "name": "python"
    }
  },
  "cells": [
    {
      "cell_type": "markdown",
      "metadata": {
        "id": "y8wUcUpnenC-"
      },
      "source": [
        "# Cloud Academy data Science Webinar\n",
        "## Boost your data Science career with data Visualization\n",
        "### Speaker: Andrea Giussani"
      ]
    },
    {
      "cell_type": "markdown",
      "metadata": {
        "id": "tfzqSY_5ovFP"
      },
      "source": [
        "Original Source Data: https://www.kaggle.com/stefanoleone992/fifa-21-complete-player-dataset\n",
        "\n",
        "I suggest to run this notebook inside a Colab Session. Please follow the instructions available [here](https://github.com/cloudacademy/ca-webinar-data-science-visualization) to get the most from this webinar."
      ]
    },
    {
      "cell_type": "code",
      "metadata": {
        "id": "BVbcUQJAZ6dP"
      },
      "source": [
        "from google.colab import drive\n",
        "drive.mount('/content/drive')"
      ],
      "execution_count": null,
      "outputs": []
    },
    {
      "cell_type": "code",
      "metadata": {
        "id": "3jSU94mNZ3N7"
      },
      "source": [
        "import pandas as pd"
      ],
      "execution_count": null,
      "outputs": []
    },
    {
      "cell_type": "code",
      "metadata": {
        "id": "OQksr_aMyv54"
      },
      "source": [
        "df_all = pd.read_csv('/content/drive/MyDrive/ca.webinars/data_viz/archive-2/all_fifa_data.zip')"
      ],
      "execution_count": null,
      "outputs": []
    },
    {
      "cell_type": "code",
      "metadata": {
        "id": "SdtcLc9HBaMO"
      },
      "source": [
        "df_all.head(2)"
      ],
      "execution_count": null,
      "outputs": []
    },
    {
      "cell_type": "markdown",
      "metadata": {
        "id": "GZOeyKaHez_f"
      },
      "source": [
        "We just retain a few columns"
      ]
    },
    {
      "cell_type": "code",
      "metadata": {
        "id": "bHNZOw2h2m8t"
      },
      "source": [
        "filtered_df = df_all[['sofifa_id', 'short_name', 'age', 'nationality', 'club_name', 'overall', 'potential', 'value_eur', 'wage_eur', 'year' ]]"
      ],
      "execution_count": null,
      "outputs": []
    },
    {
      "cell_type": "markdown",
      "metadata": {
        "id": "_MZ7SgLX3NFc"
      },
      "source": [
        "Bokeh has a nice submodule called `plotting` which has the `figure` method.\n",
        "This is the object you need to create and customize a figure in bokeh.\n",
        "This method has then several class methods that are used to draw a plot inside a figure object, and those are called glyphs."
      ]
    },
    {
      "cell_type": "code",
      "metadata": {
        "id": "hXNwNJnc7EWL"
      },
      "source": [
        "# TO BE FILLED"
      ],
      "execution_count": null,
      "outputs": []
    },
    {
      "cell_type": "markdown",
      "metadata": {
        "id": "SyE9RIk0e7RV"
      },
      "source": [
        "We can add a legend "
      ]
    },
    {
      "cell_type": "code",
      "metadata": {
        "id": "abJETEXL49zc"
      },
      "source": [
        "# TO BE FILLED"
      ],
      "execution_count": null,
      "outputs": []
    },
    {
      "cell_type": "markdown",
      "metadata": {
        "id": "h1cP7W6N7ItC"
      },
      "source": [
        "### Adding Multiple Players"
      ]
    },
    {
      "cell_type": "markdown",
      "metadata": {
        "id": "c3f7xAQ9e9zu"
      },
      "source": [
        "Let us now plot the series for three distinct players"
      ]
    },
    {
      "cell_type": "code",
      "metadata": {
        "id": "MRZt0pkTJlDH"
      },
      "source": [
        "from bokeh.palettes import Colorblind3 # util that deals the color for us"
      ],
      "execution_count": null,
      "outputs": []
    },
    {
      "cell_type": "code",
      "metadata": {
        "id": "gqABFlC35XXI"
      },
      "source": [
        "p = figure(plot_width=400, plot_height=400)\n",
        "# TO BE FILLED"
      ],
      "execution_count": null,
      "outputs": []
    },
    {
      "cell_type": "markdown",
      "metadata": {
        "id": "raJD0T077Rgn"
      },
      "source": [
        "#### Interactivity with Legend"
      ]
    },
    {
      "cell_type": "markdown",
      "metadata": {
        "id": "_ETd3eP2fJDi"
      },
      "source": [
        "Legends added to Bokeh plots can be made interactiv in case one needs to mute a certain glyph in a plot. These modes are activated by setting the click_policy property on a Legend to either \"hide\" or \"mute\"."
      ]
    },
    {
      "cell_type": "code",
      "metadata": {
        "id": "sV-L98rf7Tpk"
      },
      "source": [
        "# TO BE FILLED"
      ],
      "execution_count": null,
      "outputs": []
    },
    {
      "cell_type": "markdown",
      "metadata": {
        "id": "qKNG6MQp7hln"
      },
      "source": [
        "### Adding Interactivity with Hoover"
      ]
    },
    {
      "cell_type": "markdown",
      "metadata": {
        "id": "2YESR3s8-lHw"
      },
      "source": [
        "\n",
        "Bokeh comes with a number of interactive tools that can be used to report information, such as the so-called gestures, which are tools that respond to single gestures,  such as the `Pan` or the `WheelZoom`. In particular, for each type of gesture, one tool can be active at any given time, and the active tool is indicated on the toolbar by a highlight next to the tool icon. \n",
        "\n",
        "But there are other type of tools in bokeh. An example is the family of `Inspectors`.\n",
        "\n",
        "Inspectors are passive tools that report information about the plot, based on the current cursor position. Any number of inspectors may be active at any given time. The inspectors menu in the toolbar allows users to toggle the active state of any inspector. The most famous member of this familiy is by far the `Hover Tool`."
      ]
    },
    {
      "cell_type": "markdown",
      "metadata": {
        "id": "jBWbCocMfjvm"
      },
      "source": [
        "We also introduce a new concept here, called Column Data Source (CDS): this is the corresponding dataFrame in Pandas, a sort of data store, that is pretty efficient when used to store data in bokeh."
      ]
    },
    {
      "cell_type": "code",
      "metadata": {
        "id": "8vejVlga95LL"
      },
      "source": [
        "from bokeh.models import ColumnDataSource"
      ],
      "execution_count": null,
      "outputs": []
    },
    {
      "cell_type": "code",
      "metadata": {
        "id": "PAr9CJ7D-Fm_"
      },
      "source": [
        "# TO BE FILLED"
      ],
      "execution_count": null,
      "outputs": []
    },
    {
      "cell_type": "markdown",
      "metadata": {
        "id": "FDlsEX6qflob"
      },
      "source": [
        "\n",
        "The hover tool is used to generate a “tabular” tooltip containing information for a particular row of the dataset.  Typically, the labels and values are supplied as a list of (label, value) tuples.\n"
      ]
    },
    {
      "cell_type": "code",
      "metadata": {
        "id": "zqUXzlrs7j3K"
      },
      "source": [
        "from bokeh.models import HoverTool\n",
        "\n",
        "tooltips = [\n",
        "            ('Player', '@short_name'),\n",
        "            ('Age', '@age'),\n",
        "            ('Club', '@club_name'),\n",
        "            ('Mkt Value', '@value_eur'),\n",
        "            ('Wage', '@wage_eur')   \n",
        "           ]\n",
        "\n",
        "\n",
        "# TO BE FILLED"
      ],
      "execution_count": null,
      "outputs": []
    },
    {
      "cell_type": "markdown",
      "metadata": {
        "id": "Mc_h4gaUf_L7"
      },
      "source": [
        "### Plotting Categorical Data"
      ]
    },
    {
      "cell_type": "code",
      "metadata": {
        "id": "yrmBXzSr49N_"
      },
      "source": [
        "def get_top_countries(df, year_filter, top_n=3):\n",
        "  df_tmp = df.query('year==@year_filter')[['short_name', 'nationality']].groupby('nationality').count().rename(\n",
        "    columns={'short_name': 'cnt'}\n",
        "    ).sort_values(\n",
        "    by='cnt', ascending=False\n",
        "    )\n",
        "  top_countries = df_tmp.head(top_n).reset_index()\n",
        "  return top_countries\n"
      ],
      "execution_count": null,
      "outputs": []
    },
    {
      "cell_type": "code",
      "metadata": {
        "id": "cS_owMcBeM9h"
      },
      "source": [
        "top10_countries =  get_top_countries(filtered_df, year_filter=2021, top_n=10)"
      ],
      "execution_count": null,
      "outputs": []
    },
    {
      "cell_type": "code",
      "metadata": {
        "id": "vjeVz0u5eVUR"
      },
      "source": [
        "top10_countries"
      ],
      "execution_count": null,
      "outputs": []
    },
    {
      "cell_type": "markdown",
      "metadata": {
        "id": "FV4hZCDPgDVX"
      },
      "source": [
        "We want to plot the top 10 Countries with respect to the number of players. We set the argiment `x_range` as equal to the series `top10_countries.nationality`, which is already sorted: in this way the data is gonna be shown in descending order."
      ]
    },
    {
      "cell_type": "code",
      "metadata": {
        "id": "zLzecQFZgO2G"
      },
      "source": [
        "# TO BE FILLED"
      ],
      "execution_count": null,
      "outputs": []
    },
    {
      "cell_type": "markdown",
      "metadata": {
        "id": "I2ebevj2gz7V"
      },
      "source": [
        "Now we want to investigate how the average wage for three countires (England, Spain and Italy) evolved in the last three years. To do so we need a little bit of data wrangling. This has been done for you down below here."
      ]
    },
    {
      "cell_type": "code",
      "metadata": {
        "id": "nZIzi8f3FzZB"
      },
      "source": [
        "pivot_table_wages = pd.pivot_table(\n",
        "    data=filtered_df,\n",
        "    index='nationality',\n",
        "    columns='year',\n",
        "    aggfunc='mean',\n",
        "    values='wage_eur'\n",
        ")"
      ],
      "execution_count": null,
      "outputs": []
    },
    {
      "cell_type": "markdown",
      "metadata": {
        "id": "k7KHxL1LhHB5"
      },
      "source": [
        "We force the columns' name to be of type string"
      ]
    },
    {
      "cell_type": "code",
      "metadata": {
        "id": "Ypz-gw4yY4t1"
      },
      "source": [
        "pivot_table_wages.columns = pivot_table_wages.columns.map(str)"
      ],
      "execution_count": null,
      "outputs": []
    },
    {
      "cell_type": "code",
      "metadata": {
        "id": "lq4CwohZWRjU"
      },
      "source": [
        "countries = pivot_table_wages.loc[['England', 'Italy', 'Spain']].index.to_list()"
      ],
      "execution_count": null,
      "outputs": []
    },
    {
      "cell_type": "code",
      "metadata": {
        "id": "IDaulWdAYizF"
      },
      "source": [
        "years = pivot_table_wages.loc[['England', 'Italy', 'Spain']].columns.to_list()[4:]"
      ],
      "execution_count": null,
      "outputs": []
    },
    {
      "cell_type": "code",
      "metadata": {
        "id": "ezFcfPOsWkcW"
      },
      "source": [
        "pivot_table_wages.loc[['England', 'Italy', 'Spain'], years]"
      ],
      "execution_count": null,
      "outputs": []
    },
    {
      "cell_type": "code",
      "metadata": {
        "id": "DrTF5AmUXF_a"
      },
      "source": [
        "data = {\n",
        "    'country' : countries,\n",
        "    '2019'   : pivot_table_wages.loc[['England', 'Italy', 'Spain'], '2019'].to_list(),\n",
        "    '2020'   : pivot_table_wages.loc[['England', 'Italy', 'Spain'], '2020'].to_list(),\n",
        "    '2021'   : pivot_table_wages.loc[['England', 'Italy', 'Spain'], '2021'].to_list()\n",
        "    }"
      ],
      "execution_count": null,
      "outputs": []
    },
    {
      "cell_type": "code",
      "metadata": {
        "id": "_7isbEWaYKza"
      },
      "source": [
        "from bokeh.models import FactorRange\n",
        "\n",
        "# TO BE FILLED"
      ],
      "execution_count": null,
      "outputs": []
    },
    {
      "cell_type": "markdown",
      "metadata": {
        "id": "aDrjyMfzZ70C"
      },
      "source": [
        "**END**"
      ]
    }
  ]
}